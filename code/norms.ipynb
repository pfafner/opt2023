{
 "cells": [
  {
   "cell_type": "markdown",
   "id": "0f831197-58c5-4a3b-b48e-c23ddd83514d",
   "metadata": {},
   "source": [
    "## <font size=4> *Métodos Numéricos II*, 2023 </font>\n",
    "## <font size=3 color='gray'> Alan Reyes-Figueroa </font>"
   ]
  },
  {
   "cell_type": "code",
   "execution_count": 1,
   "id": "3419017a-d723-453e-9eaa-83cf93e70090",
   "metadata": {},
   "outputs": [],
   "source": [
    "import numpy as np\n",
    "import scipy as sp"
   ]
  },
  {
   "cell_type": "markdown",
   "id": "6a6f7ceb-e56c-4ede-b824-0fdffb3d7f23",
   "metadata": {},
   "source": [
    "# Normas Matriciales"
   ]
  },
  {
   "cell_type": "markdown",
   "id": "d3a40bdb-6ce3-4a45-ae84-1a050fd08b61",
   "metadata": {},
   "source": [
    "### Cálculo de normas"
   ]
  },
  {
   "cell_type": "code",
   "execution_count": 2,
   "id": "a7bfad27-d4ac-4624-900c-fbdace802ad4",
   "metadata": {},
   "outputs": [],
   "source": [
    "A = np.array([[1, 2, 3], [0, -3, 1]])"
   ]
  },
  {
   "cell_type": "code",
   "execution_count": 3,
   "id": "60c4d8f2-37ef-4655-b67a-ba7d2698b28b",
   "metadata": {},
   "outputs": [
    {
     "name": "stdout",
     "output_type": "stream",
     "text": [
      "[[ 1  2  3]\n",
      " [ 0 -3  1]]\n"
     ]
    }
   ],
   "source": [
    "print(A)"
   ]
  },
  {
   "cell_type": "code",
   "execution_count": 4,
   "id": "dee07dec-04d2-42b0-bd36-2e1d530b39fd",
   "metadata": {},
   "outputs": [
    {
     "data": {
      "text/plain": [
       "(2, 3)"
      ]
     },
     "execution_count": 4,
     "metadata": {},
     "output_type": "execute_result"
    }
   ],
   "source": [
    "A.shape"
   ]
  },
  {
   "cell_type": "code",
   "execution_count": null,
   "id": "f7849f80-aab1-47fd-a059-9831fce59e4f",
   "metadata": {},
   "outputs": [],
   "source": []
  },
  {
   "cell_type": "code",
   "execution_count": 5,
   "id": "bf9ce657-42ba-4fbe-b4c8-e7c3cb2450fa",
   "metadata": {},
   "outputs": [
    {
     "data": {
      "text/plain": [
       "4.898979485566356"
      ]
     },
     "execution_count": 5,
     "metadata": {},
     "output_type": "execute_result"
    }
   ],
   "source": [
    "np.linalg.norm(A)     # por default calcula la norma de Frobenius"
   ]
  },
  {
   "cell_type": "code",
   "execution_count": 6,
   "id": "0ffc11b5-72f7-42d8-90db-89261cbd002a",
   "metadata": {},
   "outputs": [
    {
     "data": {
      "text/plain": [
       "4.898979485566356"
      ]
     },
     "execution_count": 6,
     "metadata": {},
     "output_type": "execute_result"
    }
   ],
   "source": [
    "np.linalg.norm(A, 'fro')"
   ]
  },
  {
   "cell_type": "code",
   "execution_count": 7,
   "id": "669b1c49-31ad-4d54-b38d-dd613a38f997",
   "metadata": {},
   "outputs": [
    {
     "data": {
      "text/plain": [
       "5.0"
      ]
     },
     "execution_count": 7,
     "metadata": {},
     "output_type": "execute_result"
    }
   ],
   "source": [
    "np.linalg.norm(A, 1)"
   ]
  },
  {
   "cell_type": "code",
   "execution_count": 8,
   "id": "a63db0cb-2b83-4210-bbe0-ef4034e57425",
   "metadata": {},
   "outputs": [
    {
     "data": {
      "text/plain": [
       "6.0"
      ]
     },
     "execution_count": 8,
     "metadata": {},
     "output_type": "execute_result"
    }
   ],
   "source": [
    "np.linalg.norm(A, np.inf)"
   ]
  },
  {
   "cell_type": "code",
   "execution_count": 9,
   "id": "b1a1dd2d-886c-4ffb-ba40-ca2a65d0beb6",
   "metadata": {},
   "outputs": [
    {
     "data": {
      "text/plain": [
       "3.950386218518892"
      ]
     },
     "execution_count": 9,
     "metadata": {},
     "output_type": "execute_result"
    }
   ],
   "source": [
    "np.linalg.norm(A, 2)"
   ]
  },
  {
   "cell_type": "markdown",
   "id": "ea8f30ab-5c05-46ca-9830-b9f174ea83ea",
   "metadata": {},
   "source": [
    "### Norma -1 = min de las $||a_i||_1$"
   ]
  },
  {
   "cell_type": "code",
   "execution_count": 10,
   "id": "c5c2e079-8c87-4e9a-813e-e7e379663c48",
   "metadata": {},
   "outputs": [
    {
     "data": {
      "text/plain": [
       "1.0"
      ]
     },
     "execution_count": 10,
     "metadata": {},
     "output_type": "execute_result"
    }
   ],
   "source": [
    "np.linalg.norm(A, -1)"
   ]
  },
  {
   "cell_type": "markdown",
   "id": "de7eef3a-00f8-4708-a7c8-53353d28fbcf",
   "metadata": {},
   "source": [
    "### Norma $-\\infty$ = min de las $||a_i^T||_1$"
   ]
  },
  {
   "cell_type": "code",
   "execution_count": 11,
   "id": "4f5332da-fcf4-4482-bccf-ef8c5c2fe553",
   "metadata": {},
   "outputs": [
    {
     "data": {
      "text/plain": [
       "4.0"
      ]
     },
     "execution_count": 11,
     "metadata": {},
     "output_type": "execute_result"
    }
   ],
   "source": [
    "np.linalg.norm(A, -np.inf)"
   ]
  },
  {
   "cell_type": "code",
   "execution_count": null,
   "id": "9d7b827e-3ca8-46a3-83d8-a8f1e287b9e8",
   "metadata": {},
   "outputs": [],
   "source": []
  }
 ],
 "metadata": {
  "kernelspec": {
   "display_name": "Python 3 (ipykernel)",
   "language": "python",
   "name": "python3"
  },
  "language_info": {
   "codemirror_mode": {
    "name": "ipython",
    "version": 3
   },
   "file_extension": ".py",
   "mimetype": "text/x-python",
   "name": "python",
   "nbconvert_exporter": "python",
   "pygments_lexer": "ipython3",
   "version": "3.10.9"
  }
 },
 "nbformat": 4,
 "nbformat_minor": 5
}
